{
 "cells": [
  {
   "cell_type": "code",
   "execution_count": 10,
   "id": "b6fe612b-bca3-4f53-895b-1f47e191fd79",
   "metadata": {},
   "outputs": [],
   "source": [
    "import os\n",
    "import pandas as pd\n",
    "import numpy as np\n",
    "import seaborn as sns\n",
    "import matplotlib.pyplot as plt"
   ]
  },
  {
   "cell_type": "code",
   "execution_count": 11,
   "id": "13813c24-e553-48f4-917e-41c235de43e6",
   "metadata": {},
   "outputs": [],
   "source": [
    "# Some general settings for the notebook\n",
    "RSEED = 42\n",
    "colors= {\"dark_blue\": \"#084059\",\n",
    "         \"dark_green\":\"#18a5a7\",\n",
    "         \"light_blue\":\"#46add5\"}\n"
   ]
  },
  {
   "cell_type": "code",
   "execution_count": 12,
   "id": "b3782767-db3c-43d7-b40b-1f7da33c76d9",
   "metadata": {},
   "outputs": [],
   "source": [
    "# load weather data\n",
    "weather_data = pd.read_csv('../data/weatherAUS.csv')"
   ]
  },
  {
   "cell_type": "code",
   "execution_count": null,
   "id": "e29851a5",
   "metadata": {},
   "outputs": [
    {
     "ename": "IndexError",
     "evalue": "index 5 is out of bounds for axis 0 with size 5",
     "output_type": "error",
     "traceback": [
      "\u001b[1;31m---------------------------------------------------------------------------\u001b[0m",
      "\u001b[1;31mIndexError\u001b[0m                                Traceback (most recent call last)",
      "Cell \u001b[1;32mIn[25], line 6\u001b[0m\n\u001b[0;32m      4\u001b[0m idx_row \u001b[38;5;241m=\u001b[39m \u001b[38;5;241m0\u001b[39m\n\u001b[0;32m      5\u001b[0m \u001b[38;5;28;01mfor\u001b[39;00m entry \u001b[38;5;129;01min\u001b[39;00m columns:\n\u001b[1;32m----> 6\u001b[0m     sns\u001b[38;5;241m.\u001b[39mhistplot(data\u001b[38;5;241m=\u001b[39mweather_data, x\u001b[38;5;241m=\u001b[39mentry,ax\u001b[38;5;241m=\u001b[39m\u001b[43maxs\u001b[49m\u001b[43m[\u001b[49m\u001b[43midx_row\u001b[49m\u001b[43m,\u001b[49m\u001b[43m \u001b[49m\u001b[43midx_col\u001b[49m\u001b[43m]\u001b[49m)\n\u001b[0;32m      7\u001b[0m     \u001b[38;5;28;01mif\u001b[39;00m idx_col \u001b[38;5;241m<\u001b[39m \u001b[38;5;241m3\u001b[39m: \n\u001b[0;32m      8\u001b[0m         idx_col \u001b[38;5;241m+\u001b[39m\u001b[38;5;241m=\u001b[39m \u001b[38;5;241m1\u001b[39m\n",
      "\u001b[1;31mIndexError\u001b[0m: index 5 is out of bounds for axis 0 with size 5"
     ]
    }
   ],
   "source": [
    "columns = weather_data.columns.values.tolist()[2:]\n",
    "fig, axs = plt.subplots(6, 4, figsize=(25, 15))\n",
    "idx_col = 0\n",
    "idx_row = 0\n",
    "for entry in columns:\n",
    "    sns.histplot(data=weather_data, x=entry,ax=axs[idx_row, idx_col])\n",
    "    if idx_col < 3: \n",
    "        idx_col += 1\n",
    "    else:\n",
    "        idx_col = 0\n",
    "        idx_row += 1\n",
    "\n"
   ]
  }
 ],
 "metadata": {
  "kernelspec": {
   "display_name": "pop",
   "language": "python",
   "name": "python3"
  },
  "language_info": {
   "codemirror_mode": {
    "name": "ipython",
    "version": 3
   },
   "file_extension": ".py",
   "mimetype": "text/x-python",
   "name": "python",
   "nbconvert_exporter": "python",
   "pygments_lexer": "ipython3",
   "version": "3.10.15"
  }
 },
 "nbformat": 4,
 "nbformat_minor": 5
}
